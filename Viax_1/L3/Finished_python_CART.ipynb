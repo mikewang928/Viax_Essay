{
 "cells": [
  {
   "cell_type": "markdown",
   "metadata": {},
   "source": [
    "<h2>Project 7: CART</h2>\n",
    "\n",
    "\n",
    "<!--announcements-->\n",
    "<blockquote>\n",
    "    <center>\n",
    "    <img src=\"forest.jpg\" width=\"400px\" />\n",
    "    </center>\n",
    "      <p><cite><center>Boosting took a long time to be truly understood.<br>\n",
    "      ... cynics say we didn't see the forest for all the trees ...<br>\n",
    "      </center></cite></p>\n",
    "</blockquote>\n",
    "\n",
    "<!--announcements-->\n",
    "\n",
    "\n"
   ]
  },
  {
   "cell_type": "markdown",
   "metadata": {},
   "source": [
    "\n",
    "\n",
    "<h3>Introduction</h3>\n",
    "<p>In this assignment you will implement a decision tree algorithm and then use it for bagging and boosting. We've provided a tree structure for you with distinct leaves and nodes. Leaves have two fields, parent (another node) and prediction (a numerical value). Nodes have six fields: \n",
    "\n",
    "<ol>\n",
    "<li> <b>left</b>: node describing left subtree </li>\n",
    "<li> <b>right</b>: node describing right subtree </li>\n",
    "<li> <b>parent</b>: the parent of the current subtree. The head of the tree always has <code><b>None</b></code> as its parent. Feel free to initialize nodes with this field set to <code><b>None</b></code> so long as you set the correct parent later on. </li>\n",
    "<li> <b>cutoff_id</b>: index of feature to cut </li>\n",
    "<li> <b>cutoff_val</b>: cutoff value c (<=c : left, and >c : right)</li>\n",
    "<li> <b>prediction</b>: prediction at this node </li>\n",
    "</ol>\n",
    "</p>\n",
    "\n",
    "\n",
    "        "
   ]
  },
  {
   "cell_type": "code",
   "execution_count": null,
   "metadata": {},
   "outputs": [],
   "source": [
    "#<GRADED>\n",
    "class TreeNode(object):\n",
    "    \"\"\"Tree class.\n",
    "    \n",
    "    (You don't need to add any methods or fields here but feel\n",
    "    free to if you like. Our tests will only reference the fields\n",
    "    defined in the constructor below, so be sure to set these\n",
    "    correctly.)\n",
    "    \"\"\"\n",
    "    \n",
    "    def __init__(self, left, right, parent, cutoff_id, cutoff_val, prediction):\n",
    "        self.left = left\n",
    "        self.right = right\n",
    "        self.parent = parent\n",
    "        self.cutoff_id = cutoff_id\n",
    "        self.cutoff_val = cutoff_val\n",
    "        self.prediction = prediction\n",
    "#</GRADED>"
   ]
  },
  {
   "cell_type": "markdown",
   "metadata": {},
   "source": [
    "<h3>Implementing CART</h3>\n",
    "Before we get started let us add a few packages that you might need. We will also load a data set <a href=\"https://archive.ics.uci.edu/ml/datasets/Ionosphere\">ION</a>, which we will use as our binary test classification problem."
   ]
  },
  {
   "cell_type": "code",
   "execution_count": null,
   "metadata": {},
   "outputs": [
    {
     "data": {
      "text/plain": [
       "((281, 34), (281,), (70, 34), (70,))"
      ]
     },
     "execution_count": 13,
     "metadata": {},
     "output_type": "execute_result"
    }
   ],
   "source": [
    "#<GRADED>\n",
    "import numpy as np\n",
    "# from pylab import *\n",
    "from numpy.matlib import repmat\n",
    "#</GRADED>\n",
    "import sys\n",
    "import matplotlib \n",
    "import matplotlib.pyplot as plt\n",
    "from scipy.io import loadmat\n",
    "import time\n",
    "%matplotlib notebook\n",
    "\n",
    "# load in some binary test data (labels are -1, +1)\n",
    "data = loadmat(\"ion.mat\")\n",
    "xTrIon  = data['xTr'].T\n",
    "yTrIon  = data['yTr'].flatten()\n",
    "xTeIon  = data['xTe'].T\n",
    "yTeIon  = data['yTe'].flatten()\n",
    "\n",
    "xTrIon.shape, yTrIon.shape, xTeIon.shape, yTeIon.shape"
   ]
  },
  {
   "cell_type": "code",
   "execution_count": 14,
   "metadata": {},
   "outputs": [],
   "source": [
    "def spiraldata(N=300):\n",
    "    r = np.linspace(1,2*np.pi,N)\n",
    "    xTr1 = np.array([np.sin(2.*r)*r, np.cos(2*r)*r]).T\n",
    "    xTr2 = np.array([np.sin(2.*r+np.pi)*r, np.cos(2*r+np.pi)*r]).T\n",
    "    xTr = np.concatenate([xTr1, xTr2], axis=0)\n",
    "    yTr = np.concatenate([np.ones(N), -1 * np.ones(N)])\n",
    "    xTr = xTr + np.random.randn(xTr.shape[0], xTr.shape[1])*0.2\n",
    "    \n",
    "    xTe = xTr[::2,:]\n",
    "    yTe = yTr[::2]\n",
    "    xTr = xTr[1::2,:]\n",
    "    yTr = yTr[1::2]\n",
    "    \n",
    "    return xTr,yTr,xTe,yTe\n",
    "\n",
    "xTrSpiral,yTrSpiral,xTeSpiral,yTeSpiral=spiraldata(150)"
   ]
  },
  {
   "cell_type": "markdown",
   "metadata": {},
   "source": [
    "<h3> Efficiently implementing regression trees </h3>\n",
    "<p>First, implement the function <code>sqsplit</code> which takes as input a (weighted) data set with labels and computes the best feature and cut-value of an optimal split based on minimum squared error. The third input is a weight vector which assigns a positive weight to each training sample. The loss you should minimize is the averaged weighted squared-loss:\n",
    "$$\n",
    "\t{\\cal L}(S)=\\sum_{i \\in L} {w_{i}(y_{i} - T_{L})}^2+\\sum_{i \\in R} {w_{i}(y_{i} - T_{R})}^2.\\label{q2:loss}\n",
    "$$\n",
    "<br>\n",
    "</p>\n",
    "\n",
    "You are building a regression tree, and right now you need to choose a split for the given dataset $S=\\{(\\vec x_1,y_1),\\dots,(\\vec x_n,y_n)\\}$ (where we have continuous labels $y_i\\in{\\cal R}$).\n",
    "Suppose you split on some feature $j$ with value $c$ and partition the dataset in to two sets of indices, $L$--the set of indices on the left (i.e., $i \\in L \\Rightarrow [x_{i}]_{j} < c$)--and $R$--the set of indices on the right (i.e., $i \\in R \\Rightarrow [x_{i}]_{j} > c$). Suppose you assign every data point on the left the prediction $T_{L}$ and every data point on the right the prediction $T_{R}$. Finally, suppose that each data point $x_{i}$ has an associated weight $w_{i}$, and that the weights are normalized (i.e., $\\sum_{i} w_{i} = 1$). \n",
    "\n",
    "\n",
    "<p> First, we show that setting $T_{L}$ and $T_{R}$ to the weighted average label over their respective sets (i.e., $T_{L} = \\frac{1}{W_{L}}\\sum_{i\\in L}w_{i}y_{i}$ and $T_{R} = \\frac{1}{W_{R}}\\sum_{i\\in R}w_{i}y_{i}$) minimizes the loss $\\cal L$, where $W_{L}=\\sum_{i \\in L}w_{i}$ and $W_{R}=\\sum_{i \\in R} w_{i}$ are the total weight of the left and right side respectively.\n",
    "\n",
    "<p> We take the derivative of the loss with respect to $T_{L}$ to obtain $$\\frac{d}{dT_{L}} {\\cal L}(S) = -2\\sum_{i \\in L}w_{i}(y_i - T_L)=-2\\sum_{i\\in L}w_iy_i + 2T_{L}\\sum_{i}w_{i}$$ Setting this equal to zero and solving, we get $$2T_{L}w_{L}=2\\sum_{i \\in L}w_{i}y_{i}$$ and therefore $$T_{L} = \\frac{1}{W_{L}}\\sum_{i \\in L}w_{i}y_{i}$$ A symmetric argument holds for $T_{R}$.</p>\n",
    "\n",
    "<p> Now, imagine you are considering splitting on some feature $j$, and suppose you have already sorted the training points in the order of this feature value, so that $[x_{1}]_{j} < [x_{2}]_{j} < \\cdots < [x_{n}]_{j}$. You'd like to choose a split from among $c_{1} \\leq c_{2} \\leq \\cdots \\leq c_{n-1}$, where $c_{i}=\\frac{[x_{i}]_{j}+[x_{i+1}]_{j}}{2}$. One way to do this would be to, for each possible split $c_{k}$, decide whether each $x_{i}$ should be partitioned left or right, and compute $\\cal L$. At the end, take the split with the lowest loss. The number of data points $n$ and there are $O(n)$ splits to consider, and the proposed algorithm would require $O(n)$ per split to evaluate $\\cal L$, for a total of $O(n^2)$ time.\n",
    "\n",
    "<p> Now, suppose some split $c_{k}$ results in the data being partitioned in to $L^{(k)}$ and $R^{(k)}$. Suppose you are given the following quantities precomputed: $W_{L^{(k)}}$, $P_{L^{(k)}} = \\sum_{i \\in L} w_{i}y_{i}$, and $Q_{L^{(k)}} = \\sum_{i \\in L} w_{i}y_{i}^{2}$. Similarly, you are given $W_{R^{(k)}}$, $P_{R^{(k)}}$ and $Q_{R^{(k)}}$ Equipped with these precomputed quantities, we can compute $\\cal L$ in constant time:\n",
    "\n",
    "<p>Expand the left side of the loss to $$\\sum_{i \\in L}w_{i}y_{i}^{2} - 2\\sum_{i \\in L}w_{i}y_{i}T_{L} + \\sum_{i \\in L}w_{i}T_{L}^{2}$$. The first term is exactly $Q_{L^{(k)}}$. The second term can be written as $-2P_{L^{(k)}}\\frac{P_{L^{(k)}}}{W_{L^{(k)}}}=-2\\frac{P_{L^{(k)}}^{2}}{w_{L^{(k)}}}$. The last term can be written as $w_{L^{(k)}}\\frac{P_{L^{(k)}}^{2}}{w_{L^{(k)}}^{2}}=\\frac{P_{L^{(k)}}^{2}}{w_{L^{(k)}}}$. The second term plus the third term is therefore simply $-\\frac{P_{L^{(k)}}^{2}}{w_{L^{(k)}}}$. Therefore the whole expression can be evaluated as: $$Q_{L^{(k)}}-\\frac{P_{L^{(k)}}^{2}}{w_{L^{(k)}}}$$ Similarly, the right term is: $$Q_{R^{(k)}}-\\frac{P_{R^{(k)}}^{2}}{w_{R^{(k)}}}$$</p>\n",
    "\n",
    "<p> <b> Efficent Update Rule: </b> If all feature values are distinct, only one data point moves from $R$ to $L$ when moving from split $k$ to split $k+1$. Therefore, we simply update the values accordingly. For example, we subtract $w_{k}$ from $W_{R^{(k)}}$ and add it to $W_{L^{(k)}}$. We subtract $w_{k}y_{k}$ from $P_{R^{(k)}}$ and add it to $P_{L^{(k)}}$. We subtract $w_{k}y_{k}^{2}$ from $Q_{R^{(k)}}$ and add it to $Q_{L^{(k)}}$. Crucially, all of these updates take only constant time. </p>"
   ]
  },
  {
   "cell_type": "code",
   "execution_count": 37,
   "metadata": {},
   "outputs": [],
   "source": [
    "def sqsplit(xTr,yTr,weights=[]):\n",
    "    \"\"\"Finds the best feature, cut value, and loss value.\n",
    "    \n",
    "    Input:\n",
    "        xTr:     n x d matrix of data points\n",
    "        yTr:     n-dimensional vector of labels\n",
    "        weights: n-dimensional weight vector for data points\n",
    "    \n",
    "    Output:\n",
    "        feature:  index of the best cut's feature\n",
    "        cut:      cut-value of the best cut\n",
    "        bestloss: loss of the best cut\n",
    "    \"\"\"\n",
    "    N,D = xTr.shape\n",
    "    assert D > 0 # must have at least one dimension\n",
    "    assert N > 1 # must have at least two samples\n",
    "    if weights == []: # if no weights are passed on, assign uniform weights\n",
    "        weights = np.ones(N)\n",
    "    weights = weights/sum(weights) # Weights need to sum to one (we just normalize them)\n",
    "    bestloss = np.inf\n",
    "    Bloss = np.inf\n",
    "    Cbest = np.inf\n",
    "    feature = np.inf\n",
    "    cut = np.inf\n",
    "    for i in range(D):\n",
    "#         Xtemp = np.sort(xTr[:,i])\n",
    "        indtemp = np.argsort(xTr[:,i])\n",
    "        indtemp = indtemp.flatten()\n",
    "        Xtemp = xTr[indtemp,i]\n",
    "#         Cbest = (Xtemp[0])#+Xtemp[1])/2\n",
    "        Ytemp = yTr[indtemp]\n",
    "        Wtemp = weights[indtemp]\n",
    "        Pleft = Wtemp[0]*Ytemp[0]\n",
    "        Pright = Ytemp.dot(Wtemp)-Pleft\n",
    "        #print(Pright)\n",
    "        Qleft = Wtemp[0]*(Ytemp[0]**2)\n",
    "        Qright = Wtemp.dot(np.power(Ytemp,2))-Qleft\n",
    "        Wleft = Wtemp[0]\n",
    "        Wright = sum(Wtemp)-Wleft\n",
    "#         Bloss = Qright +Qleft - (Pleft**2)/Wleft - (Pright**2)/Wright\n",
    "        for j in range(0,N-1):\n",
    "            ci = (Xtemp[j]+Xtemp[j+1])/2\n",
    "            #print(ci.shape)\n",
    "            if j > 0:\n",
    "                Pleft += Wtemp[j]*Ytemp[j]\n",
    "                Pright -= Wtemp[j]*Ytemp[j]\n",
    "                Qleft += Wtemp[j]*(Ytemp[j]**2)\n",
    "                Qright -= Wtemp[j]*(Ytemp[j]**2)\n",
    "                Wleft += Wtemp[j]\n",
    "                Wright -= Wtemp[j]\n",
    "            if Xtemp[j]==Xtemp[j+1]:\n",
    "                continue\n",
    "            loss = Qright + Qleft - (Pleft**2)/Wleft - (Pright**2)/Wright\n",
    "            #print(loss)\n",
    "            if loss < Bloss :\n",
    "                Bloss = loss\n",
    "                Cbest = ci\n",
    "        if Bloss < bestloss :\n",
    "            bestloss = Bloss\n",
    "#             print(bestloss)\n",
    "            feature = i\n",
    "            cut = Cbest\n",
    "    \n",
    "            \n",
    "    # TODO:\n",
    "    #raise Exception(\"Not Implemented\")\n",
    "    \n",
    "    return feature, cut, bestloss"
   ]
  },
  {
   "cell_type": "code",
   "execution_count": 38,
   "metadata": {
    "scrolled": true
   },
   "outputs": [
    {
     "name": "stdout",
     "output_type": "stream",
     "text": [
      "elapsed time: 0.05784726142883301 seconds\n",
      "It should split on feature 2 on value 0.29920161791103117\n",
      "Split on feature 2 on value: 0.30440689508953356\n"
     ]
    }
   ],
   "source": [
    "t0 = time.time()\n",
    "fid,cut,loss = sqsplit(xTrIon,yTrIon)\n",
    "t1 = time.time()\n",
    "print('elapsed time:',t1-t0,'seconds')\n",
    "print(\"It should split on feature 2 on value 0.29920161791103117\")\n",
    "print(\"Split on feature\",fid,\"on value:\",cut)"
   ]
  },
  {
   "cell_type": "markdown",
   "metadata": {},
   "source": [
    "<b>Cart tree:</b><p>Implement the function <code>cart</code> which returns a regression tree based on the minimum squared loss splitting rule. The function takes training data, test data, a maximum depth, and the weigh of each training example. Maximum depth and weight are optional arguments. If they are not provided you should make maximum depth infinity and equally weight each example. You should use the function <code>sqsplit</code> to make your splits.</p>\n",
    "\n",
    "<p>Use the provided <code>TreeNode</code> class to represent your tree. Note that the nature of CART trees implies that every node has exactly 0 or 2 children.</p>\n"
   ]
  },
  {
   "cell_type": "code",
   "execution_count": 41,
   "metadata": {},
   "outputs": [],
   "source": [
    "#<GRADED>\n",
    "def cart(xTr,yTr,depth=np.inf,weights=None):\n",
    "    \"\"\"Builds a CART tree.\n",
    "    \n",
    "    The maximum tree depth is defined by \"maxdepth\" (maxdepth=2 means one split).\n",
    "    Each example can be weighted with \"weights\".\n",
    "​\n",
    "    Args:\n",
    "        xTr:      n x d matrix of data\n",
    "        yTr:      n-dimensional vector\n",
    "        maxdepth: maximum tree depth\n",
    "        weights:  n-dimensional weight vector for data points\n",
    "​\n",
    "    Returns:\n",
    "        tree: root of decision tree\n",
    "    \"\"\"\n",
    "    #         print(xTrR.shape)\n",
    "#         RVx = np.reshape(RV, (n,1))\n",
    "#         LVx = np.reshape(LV, (n,1))\n",
    "#         RVx = np.tile(RVx,[1,d])\n",
    "#         LVx = np.tile(LVx,[1,d])\n",
    "# #         print(RVx.shape)\n",
    "#         temp = np.multiply(RVx,xTr)\n",
    "# #         print(temp.shape)\n",
    "#         xTrR = xTr[np.nonzero(temp)]\n",
    "#         xTrL = xTr[np.nonzero(np.multiply(LVx,xTr))]\n",
    "#         yTrR = yTr[np.nonzero(np.multiply(RV,yTr))]\n",
    "#         yTrL = yTr[np.nonzero(np.multiply(LV,yTr))]\n",
    "#         wR = w[np.nonzero(np.multiply(RV,w))]\n",
    "#         wL = w[np.nonzero(np.multiply(LV,w))]\n",
    "        \n",
    "#         indR = np.argwhere(xTr[:,fid] >= cut)\n",
    "#         indL = np.argwhere(xTr[:,fid] < cut)\n",
    "#         indR = indR.flatten()\n",
    "#         indL = indL.flatten()\n",
    "# #         print(indR.shape)\n",
    "#         xTrR = xTr[indR,:]\n",
    "#         xTrL = xTr[indL,:]\n",
    "#         yTrR = yTr[indR]\n",
    "#         yTrL = yTr[indL]\n",
    "#         wR = w[indR]\n",
    "#         wL = w[indL]\n",
    "    n,d = xTr.shape\n",
    "    if weights is None:\n",
    "        w = np.ones(n) / float(n)\n",
    "    else:\n",
    "        w = weights\n",
    "#     TreeNode(left, right, parent, cutoff_id, cutoff_val, prediction)\n",
    "    node = TreeNode(None,None,None,None,None,np.mean(yTr.dot(w)/sum(w)))\n",
    "    if n > 1:\n",
    "        fid,cut,loss = sqsplit(xTr, yTr, w)\n",
    "        if fid == np.inf:\n",
    "            return node\n",
    "        RV = xTr[:,fid] > cut\n",
    "        LV = xTr[:,fid] <= cut\n",
    "        xTrR = xTr[RV]\n",
    "        xTrL = xTr[LV]\n",
    "        yTrR = yTr[RV]\n",
    "        yTrL = yTr[LV]\n",
    "        wR = w[RV]\n",
    "        wL = w[LV]\n",
    "    else:\n",
    "        return node\n",
    "    #cart(xTr,yTr,depth=np.inf,weights=None)\n",
    "    if sum(yTr == np.mean(yTr)) == yTr.shape[0]: #loss == 0.000:#np.absolute(loss) <  0.0001:#loss == 0.0001: #\n",
    "        return node\n",
    "    if (depth > 1):      \n",
    "        node.cutoff_id = fid\n",
    "        node.cutoff_val = cut\n",
    "        node.left = cart(xTrL,yTrL,depth-1,wL)\n",
    "        node.right = cart(xTrR,yTrR,depth-1,wR)\n",
    "        node.left.parent = node\n",
    "#         print(node.left.parent)\n",
    "        node.right.parent = node\n",
    "    else:\n",
    "        return node\n",
    "    return node\n",
    "       \n",
    "    # TODO:\n",
    "#     raise Exception(\"Not Implemented\")\n",
    "    \n",
    "#</GRADED>"
   ]
  },
  {
   "cell_type": "markdown",
   "metadata": {},
   "source": [
    "<p>Implement the function <code>evaltree</code>, which evaluates a decision tree on a given test data set.</p>"
   ]
  },
  {
   "cell_type": "code",
   "execution_count": 42,
   "metadata": {},
   "outputs": [],
   "source": [
    "#<GRADED>\n",
    "def evaltree(root,xTe):\n",
    "    \"\"\"Evaluates xTe using decision tree root.\n",
    "    \n",
    "    Input:\n",
    "        root: TreeNode decision tree\n",
    "        xTe:  n x d matrix of data points\n",
    "    \n",
    "    Output:\n",
    "        pred: n-dimensional vector of predictions\n",
    "    \"\"\"\n",
    "    assert root is not None\n",
    "    n = xTe.shape[0]\n",
    "    pred = np.zeros(n)\n",
    "    for i in range(n):\n",
    "        rootTe = root\n",
    "        while (rootTe.right != None):\n",
    "            if xTe[i,rootTe.cutoff_id] > rootTe.cutoff_val:\n",
    "                rootTe = rootTe.right\n",
    "            else:\n",
    "                rootTe = rootTe.left\n",
    "        pred[i] = rootTe.prediction\n",
    "    # TODO:\n",
    "#     raise Exception(\"Not Implemented\")\n",
    "    \n",
    "    return pred\n",
    "#</GRADED>"
   ]
  },
  {
   "cell_type": "markdown",
   "metadata": {},
   "source": [
    "<p>The following code defines a function <code>visclassifier()</code>, which plots the decision boundary of a classifier in 2 dimensions. Execute the following code to see what the decision boundary of your tree looks like on the ion data set. </p>"
   ]
  },
  {
   "cell_type": "code",
   "execution_count": 43,
   "metadata": {},
   "outputs": [
    {
     "name": "stderr",
     "output_type": "stream",
     "text": [
      "C:\\Users\\shoaranadmin\\venv\\TestOnXgb\\lib\\site-packages\\ipykernel_launcher.py:17: DeprecationWarning: elementwise == comparison failed; this will raise an error in the future.\n"
     ]
    },
    {
     "name": "stdout",
     "output_type": "stream",
     "text": [
      "elapsed time: 0.32 seconds\n",
      "Training RMSE : 0.00\n",
      "Testing  RMSE : 0.69\n"
     ]
    }
   ],
   "source": [
    "t0 = time.time()\n",
    "root = cart(xTrIon, yTrIon)\n",
    "t1 = time.time()\n",
    "\n",
    "tr_err   = np.mean((evaltree(root,xTrIon) - yTrIon)**2)\n",
    "te_err   = np.mean((evaltree(root,xTeIon) - yTeIon)**2)\n",
    "\n",
    "print(\"elapsed time: %.2f seconds\" % (t1-t0))\n",
    "print(\"Training RMSE : %.2f\" % tr_err)\n",
    "print(\"Testing  RMSE : %.2f\" % te_err)"
   ]
  },
  {
   "cell_type": "code",
   "execution_count": 44,
   "metadata": {},
   "outputs": [
    {
     "name": "stderr",
     "output_type": "stream",
     "text": [
      "C:\\Users\\shoaranadmin\\venv\\TestOnXgb\\lib\\site-packages\\ipykernel_launcher.py:17: DeprecationWarning: elementwise == comparison failed; this will raise an error in the future.\n"
     ]
    },
    {
     "data": {
      "text/plain": [
       "<IPython.core.display.Javascript object>"
      ]
     },
     "metadata": {},
     "output_type": "display_data"
    },
    {
     "data": {
      "text/html": [
       "<img src=\"data:image/png;base64,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\" width=\"640\">"
      ],
      "text/plain": [
       "<IPython.core.display.HTML object>"
      ]
     },
     "metadata": {},
     "output_type": "execute_result"
    },
    {
     "name": "stdout",
     "output_type": "stream",
     "text": [
      "Training error: 0.0000\n",
      "Testing error:  0.0667\n"
     ]
    },
    {
     "name": "stderr",
     "output_type": "stream",
     "text": [
      "C:\\Users\\shoaranadmin\\venv\\TestOnXgb\\lib\\site-packages\\ipykernel_launcher.py:37: DeprecationWarning: The truth value of an empty array is ambiguous. Returning False, but in future this will result in an error. Use `array.size > 0` to check that an array is not empty.\n"
     ]
    }
   ],
   "source": [
    "def visclassifier(fun,xTr,yTr,w=[],b=0):\n",
    "    \"\"\"\n",
    "    visualize decision boundary\n",
    "    Define the symbols and colors we'll use in the plots later\n",
    "    \"\"\"\n",
    "\n",
    "    yTr = np.array(yTr).flatten()\n",
    "    w = np.array(w).flatten()\n",
    "\n",
    "    symbols = [\"ko\",\"kx\"]\n",
    "    marker_symbols = ['o', 'x']\n",
    "    mycolors = [[0.5, 0.5, 1], [1, 0.5, 0.5]]\n",
    "    classvals = np.unique(yTr)\n",
    "\n",
    "    plt.figure()\n",
    "\n",
    "    res=300\n",
    "    xrange = np.linspace(min(xTr[:, 0]), max(xTr[:, 0]),res)\n",
    "    yrange = np.linspace(min(xTr[:, 1]), max(xTr[:, 1]),res)\n",
    "    pixelX = repmat(xrange, res, 1)\n",
    "    pixelY = repmat(yrange, res, 1).T\n",
    "\n",
    "    xTe = np.array([pixelX.flatten(), pixelY.flatten()]).T\n",
    "\n",
    "    testpreds = fun(xTe)\n",
    "    Z = testpreds.reshape(res, res)\n",
    "    # Z[0,0] = 1 # optional: scale the colors correctly\n",
    "    plt.contourf(pixelX, pixelY, np.sign(Z), colors=mycolors)\n",
    "\n",
    "    for idx, c in enumerate(classvals):\n",
    "        plt.scatter(xTr[yTr == c,0],\n",
    "            xTr[yTr == c,1],\n",
    "            marker=marker_symbols[idx],\n",
    "            color='k'\n",
    "            )\n",
    "\n",
    "    if w != []:\n",
    "        alpha = -1 * b / (w ** 2).sum()\n",
    "        plt.quiver(w[0] * alpha, w[1] * alpha,\n",
    "            w[0], w[1], linewidth=2, color=[0,1,0])\n",
    "\n",
    "    plt.axis('tight')\n",
    "    plt.show()\n",
    "    \n",
    "tree=cart(xTrSpiral,yTrSpiral) # compute tree on training data \n",
    "visclassifier(lambda X:evaltree(tree,X),xTrSpiral,yTrSpiral)\n",
    "print(\"Training error: %.4f\" % np.mean(np.sign(evaltree(tree,xTrSpiral)) != yTrSpiral))\n",
    "print(\"Testing error:  %.4f\" % np.mean(np.sign(evaltree(tree,xTeSpiral)) != yTeSpiral))"
   ]
  },
  {
   "cell_type": "code",
   "execution_count": 46,
   "metadata": {},
   "outputs": [
    {
     "data": {
      "text/plain": [
       "<IPython.core.display.Javascript object>"
      ]
     },
     "metadata": {},
     "output_type": "display_data"
    },
    {
     "data": {
      "text/html": [
       "<img src=\"data:image/png;base64,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\" width=\"640\">"
      ],
      "text/plain": [
       "<IPython.core.display.HTML object>"
      ]
     },
     "metadata": {},
     "output_type": "execute_result"
    },
    {
     "data": {
      "text/plain": [
       "Text(0.5, 1.0, 'Use shift-click to add negative points.')"
      ]
     },
     "execution_count": 46,
     "metadata": {},
     "output_type": "execute_result"
    }
   ],
   "source": [
    "def onclick_cart(event):\n",
    "    \"\"\"\n",
    "    Visualize cart, including new point\n",
    "    \"\"\"\n",
    "    global xTraining,labels\n",
    "    # create position vector for new point\n",
    "    pos=np.array([[event.xdata,event.ydata]]) \n",
    "    if event.key == 'shift': # add positive point\n",
    "        color='or'\n",
    "        label=1\n",
    "    else: # add negative point\n",
    "        color='ob'\n",
    "        label=-1    \n",
    "    xTraining = np.concatenate((xTraining,pos), axis = 0)\n",
    "    labels.append(label);\n",
    "    marker_symbols = ['o', 'x']\n",
    "    classvals = np.unique(labels)\n",
    "        \n",
    "    mycolors = [[0.5, 0.5, 1], [1, 0.5, 0.5]]\n",
    "    \n",
    "    # return 300 evenly spaced numbers over this interval\n",
    "    res=300\n",
    "    xrange = np.linspace(0, 1,res)\n",
    "    yrange = np.linspace(0, 1,res)\n",
    "    \n",
    "    # repeat this matrix 300 times for both axes\n",
    "    pixelX = repmat(xrange, res, 1)\n",
    "    pixelY = repmat(yrange, res, 1).T\n",
    "\n",
    "    xTe = np.array([pixelX.flatten(), pixelY.flatten()]).T\n",
    "\n",
    "    # get decision tree\n",
    "    tree=cart(xTraining,np.array(labels).flatten())\n",
    "    fun = lambda X:evaltree(tree,X)\n",
    "    # test all of these points on the grid\n",
    "    testpreds = fun(xTe)\n",
    "    \n",
    "    # reshape it back together to make our grid\n",
    "    Z = testpreds.reshape(res, res)\n",
    "    # Z[0,0] = 1 # optional: scale the colors correctly\n",
    "    \n",
    "    plt.cla()    \n",
    "    plt.xlim((0,1))\n",
    "    plt.ylim((0,1))\n",
    "    # fill in the contours for these predictions\n",
    "    plt.contourf(pixelX, pixelY, np.sign(Z), colors=mycolors)\n",
    "    \n",
    "    for idx, c in enumerate(classvals):\n",
    "        plt.scatter(xTraining[labels == c,0],\n",
    "            xTraining[labels == c,1],\n",
    "            marker=marker_symbols[idx],\n",
    "            color='k'\n",
    "            )\n",
    "    plt.show()\n",
    "    \n",
    "        \n",
    "xTraining= np.array([[5,6]])\n",
    "labels = [1]\n",
    "%matplotlib notebook\n",
    "fig = plt.figure()\n",
    "plt.xlim(0,1)\n",
    "plt.ylim(0,1)\n",
    "cid = fig.canvas.mpl_connect('button_press_event', onclick_cart)\n",
    "plt.title('Use shift-click to add negative points.')"
   ]
  },
  {
   "cell_type": "markdown",
   "metadata": {},
   "source": [
    "<h2>Random Forests</h2>\n",
    "<p>CART trees are known to be high variance classifiers\n",
    "(if trained to full depth).\n",
    "An effective way to prevent overfitting is to use <b>Bagging</b>.\n",
    "Implement the function <code>forest</code>,\n",
    "which builds a forest of regression trees.\n",
    "Each tree should be built using training data\n",
    "drawn by randomly sampling $n$ examples\n",
    "from the training data with replacement.\n",
    "Do not randomly sample features.\n",
    "The function should output a list of trees.</p>"
   ]
  },
  {
   "cell_type": "code",
   "execution_count": 49,
   "metadata": {},
   "outputs": [],
   "source": [
    "#<GRADED>\n",
    "def forest(xTr, yTr, m, maxdepth=np.inf):\n",
    "    \"\"\"Creates a random forest.\n",
    "    \n",
    "    Input:\n",
    "        xTr:      n x d matrix of data points\n",
    "        yTr:      n-dimensional vector of labels\n",
    "        m:        number of trees in the forest\n",
    "        maxdepth: maximum depth of tree\n",
    "        \n",
    "    Output:\n",
    "        trees: list of TreeNode decision trees of length m\n",
    "    \"\"\"\n",
    "    \n",
    "    n, d = xTr.shape\n",
    "    trees = []\n",
    "    for i in range(m):\n",
    "        indtemp = np.random.randint(0,n,n)\n",
    "        xTrtemp = xTr[indtemp,:]\n",
    "        yTrtemp = yTr[indtemp]\n",
    "        trees.append(cart(xTrtemp, yTrtemp,maxdepth))\n",
    "    # TODO:\n",
    "    #raise Exception(\"Not Implemented\")\n",
    "    \n",
    "    return trees\n",
    "#</GRADED>"
   ]
  },
  {
   "cell_type": "markdown",
   "metadata": {},
   "source": [
    "<p>Now implement the function <code>evalforest</code>, which should take as input a set of $m$ trees, a set of $n$ test inputs, and an $m$ dimensional weight vector. Each tree should be weighted by the corresponding weight. (For random forests you can define the weights to be $\\frac{1}{m}$ for all trees.</p>"
   ]
  },
  {
   "cell_type": "code",
   "execution_count": 50,
   "metadata": {},
   "outputs": [],
   "source": [
    "#<GRADED>\n",
    "def evalforest(trees, X, alphas=None):\n",
    "    \"\"\"Evaluates X using trees.\n",
    "    \n",
    "    Input:\n",
    "        trees:  list of TreeNode decision trees of length m\n",
    "        X:      n x d matrix of data points\n",
    "        alphas: m-dimensional weight vector\n",
    "        \n",
    "    Output:\n",
    "        pred: n-dimensional vector of predictions\n",
    "    \"\"\"\n",
    "    m = len(trees)\n",
    "    n,d = X.shape\n",
    "    if alphas is None:\n",
    "        alphas = np.ones(m) / len(trees)\n",
    "            \n",
    "    pred = np.zeros(n)\n",
    "    \n",
    "    for i in range(m):\n",
    "        predtemp = evaltree(trees[i], X)\n",
    "        pred += alphas[i]*predtemp\n",
    "    \n",
    "    # TODO:\n",
    "    #raise Exception(\"Not Implemented\")  \n",
    "#     pred /= sum(alphas)\n",
    "    return pred\n",
    "#</GRADED>"
   ]
  },
  {
   "cell_type": "markdown",
   "metadata": {},
   "source": [
    "<p>The following script visualizes the decision boundary of a random forest ensemble.</p>"
   ]
  },
  {
   "cell_type": "code",
   "execution_count": 51,
   "metadata": {},
   "outputs": [
    {
     "name": "stderr",
     "output_type": "stream",
     "text": [
      "C:\\Users\\shoaranadmin\\venv\\TestOnXgb\\lib\\site-packages\\ipykernel_launcher.py:17: DeprecationWarning: elementwise == comparison failed; this will raise an error in the future.\n"
     ]
    },
    {
     "data": {
      "text/plain": [
       "<IPython.core.display.Javascript object>"
      ]
     },
     "metadata": {},
     "output_type": "display_data"
    },
    {
     "data": {
      "text/html": [
       "<img src=\"data:image/png;base64,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\" width=\"640\">"
      ],
      "text/plain": [
       "<IPython.core.display.HTML object>"
      ]
     },
     "metadata": {},
     "output_type": "execute_result"
    },
    {
     "name": "stdout",
     "output_type": "stream",
     "text": [
      "Training error: 0.0000\n",
      "Testing error:  0.0667\n"
     ]
    },
    {
     "name": "stderr",
     "output_type": "stream",
     "text": [
      "C:\\Users\\shoaranadmin\\venv\\TestOnXgb\\lib\\site-packages\\ipykernel_launcher.py:37: DeprecationWarning: The truth value of an empty array is ambiguous. Returning False, but in future this will result in an error. Use `array.size > 0` to check that an array is not empty.\n"
     ]
    }
   ],
   "source": [
    "trees=forest(xTrSpiral,yTrSpiral,30) # compute tree on training data \n",
    "visclassifier(lambda X:evalforest(trees,X),xTrSpiral,yTrSpiral)\n",
    "print(\"Training error: %.4f\" % np.mean(np.sign(evaltree(tree,xTrSpiral)) != yTrSpiral))\n",
    "print(\"Testing error:  %.4f\" % np.mean(np.sign(evaltree(tree,xTeSpiral)) != yTeSpiral))"
   ]
  },
  {
   "cell_type": "markdown",
   "metadata": {},
   "source": [
    "<p>The following script evaluates the test and training error of a random forest ensemble as we vary the number of trees.</p>"
   ]
  },
  {
   "cell_type": "code",
   "execution_count": 69,
   "metadata": {},
   "outputs": [
    {
     "name": "stderr",
     "output_type": "stream",
     "text": [
      "C:\\Users\\shoaranadmin\\venv\\TestOnXgb\\lib\\site-packages\\ipykernel_launcher.py:17: DeprecationWarning: elementwise == comparison failed; this will raise an error in the future.\n"
     ]
    },
    {
     "name": "stdout",
     "output_type": "stream",
     "text": [
      "[0]training err = 0.0463\ttesting err = 0.1286\n",
      "[1]training err = 0.0712\ttesting err = 0.1714\n",
      "[2]training err = 0.0285\ttesting err = 0.1571\n",
      "[3]training err = 0.0249\ttesting err = 0.1429\n",
      "[4]training err = 0.0178\ttesting err = 0.1143\n",
      "[5]training err = 0.0214\ttesting err = 0.1143\n",
      "[6]training err = 0.0036\ttesting err = 0.0857\n",
      "[7]training err = 0.0071\ttesting err = 0.0857\n",
      "[8]training err = 0.0000\ttesting err = 0.0857\n",
      "[9]training err = 0.0036\ttesting err = 0.1000\n",
      "[10]training err = 0.0000\ttesting err = 0.0857\n",
      "[11]training err = 0.0000\ttesting err = 0.1143\n",
      "[12]training err = 0.0000\ttesting err = 0.0857\n",
      "[13]training err = 0.0000\ttesting err = 0.1143\n",
      "[14]training err = 0.0000\ttesting err = 0.1143\n",
      "[15]training err = 0.0000\ttesting err = 0.1143\n",
      "[16]training err = 0.0000\ttesting err = 0.1143\n",
      "[17]training err = 0.0000\ttesting err = 0.1143\n",
      "[18]training err = 0.0000\ttesting err = 0.1143\n",
      "[19]training err = 0.0000\ttesting err = 0.1143\n"
     ]
    },
    {
     "data": {
      "text/plain": [
       "<IPython.core.display.Javascript object>"
      ]
     },
     "metadata": {},
     "output_type": "display_data"
    },
    {
     "data": {
      "text/html": [
       "<img src=\"data:image/png;base64,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\" width=\"640\">"
      ],
      "text/plain": [
       "<IPython.core.display.HTML object>"
      ]
     },
     "metadata": {},
     "output_type": "execute_result"
    }
   ],
   "source": [
    "M=20 # max number of trees\n",
    "err_trB=[]\n",
    "err_teB=[]\n",
    "alltrees=forest(xTrIon,yTrIon,M)\n",
    "for i in range(M):\n",
    "    trees=alltrees[:i+1]\n",
    "    trErr = np.mean(np.sign(evalforest(trees,xTrIon)) != yTrIon)\n",
    "    teErr = np.mean(np.sign(evalforest(trees,xTeIon)) != yTeIon)\n",
    "    err_trB.append(trErr)\n",
    "    err_teB.append(teErr)\n",
    "    print(\"[%d]training err = %.4f\\ttesting err = %.4f\" % (i,trErr, teErr))\n",
    "\n",
    "plt.figure()\n",
    "line_tr, = plt.plot(range(M),err_trB,label=\"Training Error\")\n",
    "line_te, = plt.plot(range(M),err_teB,label=\"Testing error\")\n",
    "plt.title(\"Random Forest\")\n",
    "plt.legend(handles=[line_tr, line_te])\n",
    "plt.xlabel(\"# of trees\")\n",
    "plt.ylabel(\"error\")\n",
    "plt.show()"
   ]
  },
  {
   "cell_type": "code",
   "execution_count": 54,
   "metadata": {},
   "outputs": [
    {
     "data": {
      "text/plain": [
       "<IPython.core.display.Javascript object>"
      ]
     },
     "metadata": {},
     "output_type": "display_data"
    },
    {
     "data": {
      "text/html": [
       "<img src=\"data:image/png;base64,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\" width=\"640\">"
      ],
      "text/plain": [
       "<IPython.core.display.HTML object>"
      ]
     },
     "metadata": {},
     "output_type": "execute_result"
    },
    {
     "name": "stdout",
     "output_type": "stream",
     "text": [
      "Note: there is strong delay between points\n"
     ]
    },
    {
     "data": {
      "text/plain": [
       "Text(0.5, 1.0, 'Use shift-click to add negative points.')"
      ]
     },
     "execution_count": 54,
     "metadata": {},
     "output_type": "execute_result"
    }
   ],
   "source": [
    "def onclick_forest(event):\n",
    "    \"\"\"\n",
    "    Visualize forest, including new point\n",
    "    \"\"\"\n",
    "    global xTrain,yTrain,w,b,M\n",
    "    # create position vector for new point\n",
    "    pos=np.array([[event.xdata,event.ydata]]) \n",
    "    if event.key == 'shift': # add positive point\n",
    "        color='or'\n",
    "        label=1\n",
    "    else: # add negative point\n",
    "        color='ob'\n",
    "        label=-1    \n",
    "    xTrain = np.concatenate((xTrain,pos), axis = 0)\n",
    "    yTrain = np.append(yTrain, label)\n",
    "    marker_symbols = ['o', 'x']\n",
    "    classvals = np.unique(yTrain)\n",
    "        \n",
    "    w = np.array(w).flatten()\n",
    "    \n",
    "    mycolors = [[0.5, 0.5, 1], [1, 0.5, 0.5]]\n",
    "    \n",
    "    # return 300 evenly spaced numbers over this interval\n",
    "    res=300\n",
    "    xrange = np.linspace(0, 1,res)\n",
    "    yrange = np.linspace(0, 1,res)\n",
    "    \n",
    "    # repeat this matrix 300 times for both axes\n",
    "    pixelX = repmat(xrange, res, 1)\n",
    "    pixelY = repmat(yrange, res, 1).T\n",
    "\n",
    "    xTe = np.array([pixelX.flatten(), pixelY.flatten()]).T\n",
    "\n",
    "    # get forest\n",
    "    trees=forest(xTrain,yTrain,M)\n",
    "    fun = lambda X:evalforest(trees,X)\n",
    "    # test all of these points on the grid\n",
    "    testpreds = fun(xTe)\n",
    "    \n",
    "    # reshape it back together to make our grid\n",
    "    Z = testpreds.reshape(res, res)\n",
    "    # Z[0,0] = 1 # optional: scale the colors correctly\n",
    "    \n",
    "    plt.cla()    \n",
    "    plt.xlim((0,1))\n",
    "    plt.ylim((0,1))\n",
    "    # fill in the contours for these predictions\n",
    "    plt.contourf(pixelX, pixelY, np.sign(Z), colors=mycolors)\n",
    "    \n",
    "    for idx, c in enumerate(classvals):\n",
    "        plt.scatter(xTrain[yTrain == c,0],\n",
    "            xTrain[yTrain == c,1],\n",
    "            marker=marker_symbols[idx],\n",
    "            color='k'\n",
    "            )\n",
    "    plt.show()\n",
    "    \n",
    "        \n",
    "xTrain= np.array([[5,6]])\n",
    "b=yTrIon\n",
    "yTrain = np.array([1])\n",
    "w=xTrIon\n",
    "M=20\n",
    "\n",
    "fig = plt.figure()\n",
    "plt.xlim(0,1)\n",
    "plt.ylim(0,1)\n",
    "cid = fig.canvas.mpl_connect('button_press_event', onclick_forest)\n",
    "print('Note: there is strong delay between points')\n",
    "plt.title('Use shift-click to add negative points.')"
   ]
  },
  {
   "cell_type": "markdown",
   "metadata": {},
   "source": [
    "<h2>Boosting</h2>\n",
    "\n",
    "<p>Another option to improve your decision trees is to build trees of small depth (e.g. only depth=3 or depth=4). These do not have high variance, but instead suffer from <b>high bias</b>. You can reduce the bias of a classifier with boosting. Implement the function <code>boosttree</code>, which applies Adaboost on your <code>cart</code> functions. You should be able to use the function <code>evalforest</code> to evaluate your boosted ensemble (provdided you pass on the weights correctly.)</p>"
   ]
  },
  {
   "cell_type": "code",
   "execution_count": 58,
   "metadata": {},
   "outputs": [],
   "source": [
    "#<GRADED>\n",
    "def boosttree(x,y,maxiter=100,maxdepth=2):\n",
    "    \"\"\"Learns a boosted decision tree.\n",
    "    \n",
    "    Input:\n",
    "        x:        n x d matrix of data points\n",
    "        y:        n-dimensional vector of labels\n",
    "        maxiter:  maximum number of trees\n",
    "        maxdepth: maximum depth of a tree\n",
    "        \n",
    "    Output:\n",
    "        forest: list of TreeNode decision trees of length m\n",
    "        alphas: m-dimensional weight vector\n",
    "        \n",
    "    (note, m is at most maxiter, but may be smaller,\n",
    "    as dictated by the Adaboost algorithm)\n",
    "    \"\"\"\n",
    "    assert np.allclose(np.unique(y), np.array([-1,1])); # the labels must be -1 and 1 \n",
    "    n,d = x.shape\n",
    "    weights = np.ones(n) / n\n",
    "    preds   = None\n",
    "    forest  = []\n",
    "    alphas  = []\n",
    "    for i in range(maxiter):\n",
    "        tree = cart(x,y,maxdepth,weights)\n",
    "        pred = evaltree(tree, x)\n",
    "        pred = np.sign(pred)\n",
    "        epsi = np.sum(np.multiply((pred != y),weights))\n",
    "        \n",
    "        if epsi == 0.5:\n",
    "            break\n",
    "        if epsi > 0.5:\n",
    "            tree = cart(x,-y,maxdepth,weights)\n",
    "\n",
    "        forest.append(tree)\n",
    "        pred = evaltree(tree, x)\n",
    "        pred = np.sign(pred)\n",
    "\n",
    "        epsi = np.sum(np.multiply((pred != y),weights))\n",
    "        new_alpha = 0.5 * np.log((1-epsi)/epsi)\n",
    "        alphas.append(new_alpha)\n",
    "        denum = 2*np.sqrt(epsi*(1-epsi))\n",
    "        Cor = ((pred == y)-0.5)*2\n",
    "        power = -(Cor)*new_alpha\n",
    "        hy = np.exp(power)/(denum)\n",
    "        weights = np.multiply(weights,hy)\n",
    "        \n",
    "        \n",
    "        \n",
    "#     print(len(forest))\n",
    "    # TODO:\n",
    "    #raise Exception(\"Not Implemented\") \n",
    "#     print(alphas)\n",
    "    return forest, alphas\n",
    "#</GRADED>"
   ]
  },
  {
   "cell_type": "markdown",
   "metadata": {},
   "source": [
    "<p>The following script evaluates the test and training error of a boosted forest as we increase the number of trees.</p>"
   ]
  },
  {
   "cell_type": "code",
   "execution_count": 65,
   "metadata": {
    "scrolled": false
   },
   "outputs": [
    {
     "name": "stderr",
     "output_type": "stream",
     "text": [
      "C:\\Users\\shoaranadmin\\venv\\TestOnXgb\\lib\\site-packages\\ipykernel_launcher.py:17: DeprecationWarning: elementwise == comparison failed; this will raise an error in the future.\n"
     ]
    },
    {
     "name": "stdout",
     "output_type": "stream",
     "text": [
      "[0]training err = 0.1139\ttesting err = 0.2000\n",
      "[1]training err = 0.0819\ttesting err = 0.1714\n",
      "[2]training err = 0.0463\ttesting err = 0.1714\n",
      "[3]training err = 0.0498\ttesting err = 0.1714\n",
      "[4]training err = 0.0320\ttesting err = 0.2000\n",
      "[5]training err = 0.0249\ttesting err = 0.2286\n",
      "[6]training err = 0.0249\ttesting err = 0.1857\n",
      "[7]training err = 0.0000\ttesting err = 0.1143\n",
      "[8]training err = 0.0071\ttesting err = 0.1143\n",
      "[9]training err = 0.0036\ttesting err = 0.1429\n",
      "[10]training err = 0.0000\ttesting err = 0.1000\n",
      "[11]training err = 0.0000\ttesting err = 0.1000\n",
      "[12]training err = 0.0000\ttesting err = 0.1286\n",
      "[13]training err = 0.0000\ttesting err = 0.1000\n",
      "[14]training err = 0.0000\ttesting err = 0.1000\n",
      "[15]training err = 0.0000\ttesting err = 0.1000\n",
      "[16]training err = 0.0000\ttesting err = 0.1143\n",
      "[17]training err = 0.0000\ttesting err = 0.1286\n",
      "[18]training err = 0.0000\ttesting err = 0.1143\n",
      "[19]training err = 0.0000\ttesting err = 0.1143\n"
     ]
    },
    {
     "data": {
      "text/plain": [
       "<IPython.core.display.Javascript object>"
      ]
     },
     "metadata": {},
     "output_type": "display_data"
    },
    {
     "data": {
      "text/html": [
       "<img src=\"data:image/png;base64,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\" width=\"640\">"
      ],
      "text/plain": [
       "<IPython.core.display.HTML object>"
      ]
     },
     "metadata": {},
     "output_type": "execute_result"
    }
   ],
   "source": [
    "M=20 # max number of trees\n",
    "alltrees,allalphas=boosttree(xTrIon,yTrIon,maxdepth=3,maxiter=M)\n",
    "\n",
    "err_trB=[]\n",
    "err_teB=[]\n",
    "for i in range(M):\n",
    "    trees=alltrees[:i+1]\n",
    "    alphas=allalphas[:i+1]\n",
    "    trErr = np.mean(np.sign(evalforest(trees,xTrIon,alphas)) != yTrIon)\n",
    "    teErr = np.mean(np.sign(evalforest(trees,xTeIon,alphas)) != yTeIon)\n",
    "    err_trB.append(trErr)\n",
    "    err_teB.append(teErr)\n",
    "    print(\"[%d]training err = %.4f\\ttesting err = %.4f\" % (i,trErr, teErr))\n",
    "\n",
    "plt.figure()\n",
    "line_tr, = plt.plot(range(M),err_trB,label=\"Training Error\")\n",
    "line_te, = plt.plot(range(M),err_teB,label=\"Testing error\")\n",
    "plt.title(\"Adaboost\")\n",
    "plt.legend(handles=[line_tr, line_te])\n",
    "plt.xlabel(\"# of trees\")\n",
    "plt.ylabel(\"error\")\n",
    "plt.show()"
   ]
  },
  {
   "cell_type": "code",
   "execution_count": 60,
   "metadata": {},
   "outputs": [
    {
     "name": "stderr",
     "output_type": "stream",
     "text": [
      "C:\\Users\\shoaranadmin\\venv\\TestOnXgb\\lib\\site-packages\\ipykernel_launcher.py:17: DeprecationWarning: elementwise == comparison failed; this will raise an error in the future.\n"
     ]
    },
    {
     "data": {
      "text/plain": [
       "<IPython.core.display.Javascript object>"
      ]
     },
     "metadata": {},
     "output_type": "display_data"
    },
    {
     "data": {
      "text/html": [
       "<img src=\"data:image/png;base64,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\" width=\"640\">"
      ],
      "text/plain": [
       "<IPython.core.display.HTML object>"
      ]
     },
     "metadata": {},
     "output_type": "execute_result"
    },
    {
     "name": "stdout",
     "output_type": "stream",
     "text": [
      "elapsed time: 0.32 seconds\n",
      "Training error: 0.0467\n",
      "Testing error:  0.1533\n"
     ]
    },
    {
     "name": "stderr",
     "output_type": "stream",
     "text": [
      "C:\\Users\\shoaranadmin\\venv\\TestOnXgb\\lib\\site-packages\\ipykernel_launcher.py:37: DeprecationWarning: The truth value of an empty array is ambiguous. Returning False, but in future this will result in an error. Use `array.size > 0` to check that an array is not empty.\n"
     ]
    }
   ],
   "source": [
    "trees,alphas=boosttree(xTrSpiral,yTrSpiral,maxdepth=3,maxiter=20)\n",
    "visclassifier(lambda X:evalforest(trees,X,alphas),xTrSpiral,yTrSpiral)\n",
    "\n",
    "print(\"elapsed time: %.2f seconds\" % (t1-t0))\n",
    "print(\"Training error: %.4f\" % np.mean(np.sign(evalforest(trees,xTrSpiral)) != yTrSpiral))\n",
    "print(\"Testing error:  %.4f\" % np.mean(np.sign(evalforest(trees,xTeSpiral)) != yTeSpiral))"
   ]
  },
  {
   "cell_type": "code",
   "execution_count": 61,
   "metadata": {},
   "outputs": [
    {
     "data": {
      "text/plain": [
       "<IPython.core.display.Javascript object>"
      ]
     },
     "metadata": {},
     "output_type": "display_data"
    },
    {
     "data": {
      "text/html": [
       "<img src=\"data:image/png;base64,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\" width=\"640\">"
      ],
      "text/plain": [
       "<IPython.core.display.HTML object>"
      ]
     },
     "metadata": {},
     "output_type": "execute_result"
    },
    {
     "data": {
      "text/plain": [
       "Text(0.5, 1.0, 'Use shift-click to add negative points.')"
      ]
     },
     "execution_count": 61,
     "metadata": {},
     "output_type": "execute_result"
    }
   ],
   "source": [
    "xTrain= np.array([[5,6],[2,5]])\n",
    "yTrain = np.array([-1,1])\n",
    "fig = plt.figure()\n",
    "plt.xlim(0,1)\n",
    "plt.ylim(0,1)\n",
    "\n",
    "\n",
    "def onclick_boost(event):\n",
    "    \"\"\"\n",
    "    Visualize boosting, including new point\n",
    "    \"\"\"\n",
    "    global xTrain,yTrain\n",
    "    # create position vector for new point\n",
    "    pos=np.array([[event.xdata,event.ydata]]) \n",
    "    if event.key == 'shift': # add positive point\n",
    "        color='or'\n",
    "        label=1\n",
    "    else: # add negative point\n",
    "        color='ob'\n",
    "        label=-1    \n",
    "    xTrain = np.concatenate((xTrain,pos), axis = 0)\n",
    "    yTrain = np.append(yTrain, label)\n",
    "    marker_symbols = ['o', 'x']\n",
    "    classvals = np.unique(yTrain)\n",
    "            \n",
    "    mycolors = [[0.5, 0.5, 1], [1, 0.5, 0.5]]\n",
    "    \n",
    "    # return 300 evenly spaced numbers over this interval\n",
    "    res=300\n",
    "    xrange = np.linspace(0,1,res)\n",
    "    yrange = np.linspace(0,1,res)\n",
    "    \n",
    "    # repeat this matrix 300 times for both axes\n",
    "    pixelX = repmat(xrange, res, 1)\n",
    "    pixelY = repmat(yrange, res, 1).T\n",
    "    xTe = np.array([pixelX.flatten(), pixelY.flatten()]).T\n",
    "    \n",
    "    # get forest\n",
    "    forest,alphas=boosttree(xTrain,yTrain,maxdepth=3,maxiter=5)\n",
    "    if len(forest) > 0:\n",
    "        fun = lambda X: evalforest(forest,X,alphas)\n",
    "        # test all of these points on the grid\n",
    "        testpreds = fun(xTe)\n",
    "\n",
    "        # reshape it back together to make our grid\n",
    "        Z = testpreds.reshape(res, res)\n",
    "        Z[0,0] = 1 # optional: scale the colors correctly\n",
    "\n",
    "        plt.cla()    \n",
    "        plt.xlim((0,1))\n",
    "        plt.ylim((0,1))\n",
    "        # fill in the contours for these predictions\n",
    "        plt.contourf(pixelX, pixelY, np.sign(Z), colors=mycolors)\n",
    "    \n",
    "    for idx, c in enumerate(classvals):\n",
    "        plt.scatter(xTrain[yTrain == c,0],\n",
    "            xTrain[yTrain == c,1],\n",
    "            marker=marker_symbols[idx],\n",
    "            color='k'\n",
    "            )\n",
    "    plt.show()\n",
    "    \n",
    "cid = fig.canvas.mpl_connect('button_press_event', onclick_boost)\n",
    "plt.title('Use shift-click to add negative points.')"
   ]
  },
  {
   "cell_type": "markdown",
   "metadata": {},
   "source": [
    "**Competition**: we ask you to improve the speed of evaltree and cart while keeping both functions accurate.\n",
    "    \n",
    "You will receive points if your implemention is faster than our naive implementation."
   ]
  },
  {
   "cell_type": "code",
   "execution_count": 62,
   "metadata": {},
   "outputs": [],
   "source": [
    "#<GRADED>\n",
    "def evaltreecomp(root,xTe,idx=[]):\n",
    "    \"\"\"Evaluates xTe using decision tree root. Same as evaltree but designed to be as efficient as possible.\n",
    "    \n",
    "    Input:\n",
    "        root: TreeNode decision tree\n",
    "        xTe:  n x d matrix of data points\n",
    "        idx:  choosen indices, optional argument that might be helpful with implementation strategy\n",
    "    Output:\n",
    "        pred: n-dimensional vector of predictions\n",
    "    \"\"\"\n",
    "    assert root is not None\n",
    "    n = xTe.shape[0]\n",
    "    pred = np.zeros(n)\n",
    "    #     TreeNode(left, right, parent, cutoff_id, cutoff_val, prediction)\n",
    "    for i in range(n):\n",
    "        rootTe = root\n",
    "        while (rootTe.right != None):\n",
    "            if xTe[i,rootTe.cutoff_id] > rootTe.cutoff_val:\n",
    "                rootTe = rootTe.right\n",
    "            else:\n",
    "                rootTe = rootTe.left\n",
    "        pred[i] = rootTe.prediction\n",
    "    # TODO:\n",
    "#     raise Exception(\"Not Implemented\")\n",
    "    \n",
    "\n",
    "    return pred\n",
    "\n",
    "def cartcomp(xTr,yTr,depth=np.inf,weights=None):\n",
    "    \"\"\"Builds a CART tree. Same as cart but designed to be as efficient as possible.\n",
    "    \n",
    "    The maximum tree depth is defined by \"maxdepth\" (maxdepth=2 means one split).\n",
    "    Each example can be weighted with \"weights\".\n",
    "\n",
    "    Args:\n",
    "        xTr:      n x d matrix of data\n",
    "        yTr:      n-dimensional vector\n",
    "        maxdepth: maximum tree depth\n",
    "        weights:  n-dimensional weight vector for data points\n",
    "\n",
    "    Returns:\n",
    "        tree: root of decision tree\n",
    "    \"\"\"\n",
    "    n,d = xTr.shape\n",
    "    if weights is None:\n",
    "        w = np.ones(n) / float(n)\n",
    "    else:\n",
    "        w = weights\n",
    "#     TreeNode(left, right, parent, cutoff_id, cutoff_val, prediction)\n",
    "    node = TreeNode(None,None,None,None,None,np.mean(yTr.dot(w)/sum(w)))\n",
    "    if n > 1:\n",
    "        fid,cut,loss = sqsplit(xTr, yTr, w)\n",
    "        if fid == np.inf:\n",
    "            return node\n",
    "        RV = xTr[:,fid] >= cut\n",
    "        LV = xTr[:,fid] < cut\n",
    "        xTrR = xTr[RV]\n",
    "        xTrL = xTr[LV]\n",
    "        yTrR = yTr[RV]\n",
    "        yTrL = yTr[LV]\n",
    "        wR = w[RV]\n",
    "        wL = w[LV]\n",
    "    else:\n",
    "        return node\n",
    "    #cart(xTr,yTr,depth=np.inf,weights=None)\n",
    "    if sum(yTr == np.mean(yTr)) == yTr.shape[0]: #loss == 0.000:#np.absolute(loss) <  0.0001:#loss == 0.0001: #\n",
    "        return node\n",
    "    if (depth > 1):      \n",
    "        node.cutoff_id = fid\n",
    "        node.cutoff_val = cut\n",
    "        node.left = cart(xTrL,yTrL,depth-1,wL)\n",
    "        node.right = cart(xTrR,yTrR,depth-1,wR)\n",
    "        node.left.parent = node\n",
    "#         print(node.left.parent)\n",
    "        node.right.parent = node\n",
    "    else:\n",
    "        return node\n",
    "    return node\n",
    "    \n",
    "    # TODO:\n",
    "    #raise Exception(\"Not Implemented\")\n",
    "#</GRADED>"
   ]
  },
  {
   "cell_type": "code",
   "execution_count": null,
   "metadata": {},
   "outputs": [],
   "source": []
  }
 ],
 "metadata": {
  "anaconda-cloud": {},
  "kernelspec": {
   "display_name": "Python 3",
   "language": "python",
   "name": "python3"
  },
  "language_info": {
   "codemirror_mode": {
    "name": "ipython",
    "version": 3
   },
   "file_extension": ".py",
   "mimetype": "text/x-python",
   "name": "python",
   "nbconvert_exporter": "python",
   "pygments_lexer": "ipython3",
   "version": "3.6.5"
  }
 },
 "nbformat": 4,
 "nbformat_minor": 1
}
